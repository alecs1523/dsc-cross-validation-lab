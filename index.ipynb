{
  "cells": [
    {
      "cell_type": "markdown",
      "metadata": {
        "id": "1Ufecoh5AQM_"
      },
      "source": [
        "# Introduction to Cross-Validation - Lab\n",
        "\n",
        "## Introduction\n",
        "\n",
        "In this lab, you'll be able to practice your cross-validation skills!\n",
        "\n",
        "\n",
        "## Objectives\n",
        "\n",
        "You will be able to:\n",
        "\n",
        "- Perform cross validation on a model\n",
        "- Compare and contrast model validation strategies"
      ]
    },
    {
      "cell_type": "markdown",
      "metadata": {
        "id": "-bMvoJoYAQND"
      },
      "source": [
        "## Let's Get Started\n",
        "\n",
        "We included the code to pre-process the Ames Housing dataset below. This is done for the sake of expediency, although it may result in data leakage and therefore overly optimistic model metrics."
      ]
    },
    {
      "cell_type": "code",
      "execution_count": 1,
      "metadata": {
        "id": "Z8xTn38DAQNF"
      },
      "outputs": [],
      "source": [
        "import pandas as pd\n",
        "import numpy as np\n",
        "import matplotlib.pyplot as plt\n",
        "%matplotlib inline\n",
        "\n",
        "ames = pd.read_csv('https://raw.githubusercontent.com/alecs1523/dsc-cross-validation-lab/refs/heads/master/ames.csv')\n",
        "\n",
        "continuous = ['LotArea', '1stFlrSF', 'GrLivArea', 'SalePrice']\n",
        "categoricals = ['BldgType', 'KitchenQual', 'SaleType', 'MSZoning', 'Street', 'Neighborhood']\n",
        "\n",
        "ames_cont = ames[continuous]\n",
        "\n",
        "# log features\n",
        "log_names = [f'{column}_log' for column in ames_cont.columns]\n",
        "\n",
        "ames_log = np.log(ames_cont)\n",
        "ames_log.columns = log_names\n",
        "\n",
        "# normalize (subract mean and divide by std)\n",
        "\n",
        "def normalize(feature):\n",
        "    return (feature - feature.mean()) / feature.std()\n",
        "\n",
        "ames_log_norm = ames_log.apply(normalize)\n",
        "\n",
        "# one hot encode categoricals\n",
        "ames_ohe = pd.get_dummies(ames[categoricals], prefix=categoricals, drop_first=True)\n",
        "\n",
        "preprocessed = pd.concat([ames_log_norm, ames_ohe], axis=1)\n",
        "\n",
        "X = preprocessed.drop('SalePrice_log', axis=1)\n",
        "y = preprocessed['SalePrice_log']"
      ]
    },
    {
      "cell_type": "markdown",
      "metadata": {
        "id": "rosPqhFLAQNG"
      },
      "source": [
        "## Train-Test Split\n",
        "\n",
        "Perform a train-test split with a test set of 20% and a random state of 4."
      ]
    },
    {
      "cell_type": "code",
      "execution_count": 14,
      "metadata": {
        "id": "gbswTbP9AQNK"
      },
      "outputs": [],
      "source": [
        "# Import train_test_split from sklearn.model_selection\n",
        "\n",
        "from sklearn.model_selection import train_test_split\n",
        "\n",
        "\n"
      ]
    },
    {
      "cell_type": "code",
      "execution_count": 15,
      "metadata": {
        "id": "JGLdCZm3AQNK"
      },
      "outputs": [],
      "source": [
        "# Split the data into training and test sets (assign 20% to test set)\n",
        "X_train,X_test,y_train,y_test = train_test_split(X,y,test_size =0.2,random_state=42)"
      ]
    },
    {
      "cell_type": "markdown",
      "metadata": {
        "id": "MUuIDnAgAQNL"
      },
      "source": [
        "### Fit a Model\n",
        "\n",
        "Fit a linear regression model on the training set"
      ]
    },
    {
      "cell_type": "code",
      "execution_count": 16,
      "metadata": {
        "id": "sYszDAGJAQNL"
      },
      "outputs": [],
      "source": [
        "# Import LinearRegression from sklearn.linear_model\n",
        "from sklearn.linear_model import LinearRegression\n",
        "\n"
      ]
    },
    {
      "cell_type": "code",
      "execution_count": 22,
      "metadata": {
        "id": "9SMgWvKWAQNL"
      },
      "outputs": [],
      "source": [
        "# Instantiate and fit a linear regression model\n",
        "linreg= LinearRegression()\n",
        "\n",
        "linreg.fit(X_train,y_train)\n",
        "\n",
        "y_hat_train = linreg.predict(X_train)\n",
        "y_hat_test = linreg.predict(X_test)"
      ]
    },
    {
      "cell_type": "markdown",
      "metadata": {
        "id": "BKWaL_y6AQNM"
      },
      "source": [
        "### Calculate MSE\n",
        "\n",
        "Calculate the mean squared error on the test set"
      ]
    },
    {
      "cell_type": "code",
      "execution_count": 18,
      "metadata": {
        "id": "gkIiMulBAQNM"
      },
      "outputs": [],
      "source": [
        "# Import mean_squared_error from sklearn.metrics\n",
        "from sklearn.metrics import mean_squared_error\n"
      ]
    },
    {
      "cell_type": "code",
      "execution_count": 29,
      "metadata": {
        "id": "gTUSy2SMAQNM",
        "outputId": "30dd8522-63dc-4e56-e44a-e3ecbae138a9",
        "colab": {
          "base_uri": "https://localhost:8080/"
        }
      },
      "outputs": [
        {
          "output_type": "stream",
          "name": "stdout",
          "text": [
            "0.17595331097301373\n",
            "0.16025695964655187\n"
          ]
        }
      ],
      "source": [
        "# Calculate MSE on test set\n",
        "mse_test = mean_squared_error(y_test,y_hat_test)\n",
        "mse_train = mean_squared_error(y_train,y_hat_train)\n",
        "print(mse_test)\n",
        "print(mse_train)\n"
      ]
    },
    {
      "cell_type": "markdown",
      "metadata": {
        "id": "-wPp-9DGAQNM"
      },
      "source": [
        "## Cross-Validation using Scikit-Learn\n",
        "\n",
        "Now let's compare that single test MSE to a cross-validated test MSE."
      ]
    },
    {
      "cell_type": "code",
      "execution_count": 30,
      "metadata": {
        "id": "O3yzsX7wAQNN"
      },
      "outputs": [],
      "source": [
        "# Import cross_val_score from sklearn.model_selection\n",
        "from sklearn.model_selection import cross_val_score"
      ]
    },
    {
      "cell_type": "code",
      "execution_count": 40,
      "metadata": {
        "id": "0GFDrChNAQNN",
        "outputId": "77b41850-f4ab-428c-c644-e24050d86007",
        "colab": {
          "base_uri": "https://localhost:8080/"
        }
      },
      "outputs": [
        {
          "output_type": "execute_result",
          "data": {
            "text/plain": [
              "array([0.12431546, 0.19350065, 0.1891053 , 0.17079325, 0.20742705])"
            ]
          },
          "metadata": {},
          "execution_count": 40
        }
      ],
      "source": [
        "# Find MSE scores for a 5-fold cross-validation\n",
        "from sklearn.metrics import make_scorer\n",
        "\n",
        "cross_val_score(linreg,X,y,cv=5,scoring=make_scorer(mean_squared_error))"
      ]
    },
    {
      "cell_type": "code",
      "source": [
        "from sklearn.model_selection import cross_validate\n",
        "\n",
        "cross_val_results=cross_validate(linreg, X, y, scoring = 'neg_mean_squared_error',return_train_score=True)"
      ],
      "metadata": {
        "id": "U6EO7cl6MmX0"
      },
      "execution_count": 47,
      "outputs": []
    },
    {
      "cell_type": "code",
      "execution_count": 49,
      "metadata": {
        "id": "0eKgGKvTAQNN",
        "outputId": "576a8f55-341f-40fa-e38d-761b262f600e",
        "colab": {
          "base_uri": "https://localhost:8080/"
        }
      },
      "outputs": [
        {
          "output_type": "execute_result",
          "data": {
            "text/plain": [
              "0.17702834210001123"
            ]
          },
          "metadata": {},
          "execution_count": 49
        }
      ],
      "source": [
        "# Get the average MSE score\n",
        "test_avg = -cross_val_results[\"test_score\"].mean()\n",
        "\n",
        "test_avg"
      ]
    },
    {
      "cell_type": "markdown",
      "metadata": {
        "id": "DYpvbldXAQNN"
      },
      "source": [
        "Compare and contrast the results. What is the difference between the train-test split and cross-validation results? Do you \"trust\" one more than the other?"
      ]
    },
    {
      "cell_type": "code",
      "execution_count": null,
      "metadata": {
        "id": "2W1Uhp5GAQNN"
      },
      "outputs": [],
      "source": [
        "# Your answer here\n"
      ]
    },
    {
      "cell_type": "markdown",
      "metadata": {
        "id": "bWUeyzIRAQNN"
      },
      "source": [
        "## Level Up: Let's Build It from Scratch!\n",
        "\n",
        "### Create a Cross-Validation Function\n",
        "\n",
        "Write a function `kfolds(data, k)` that splits a dataset into `k` evenly sized pieces. If the full dataset is not divisible by `k`, make the first few folds one larger then later ones.\n",
        "\n",
        "For example, if you had this dataset:"
      ]
    },
    {
      "cell_type": "markdown",
      "source": [],
      "metadata": {
        "id": "nw3J0ts3PpXR"
      }
    },
    {
      "cell_type": "code",
      "execution_count": 50,
      "metadata": {
        "id": "vx3TUifPAQNN",
        "outputId": "1200f421-b7e4-4144-c54f-95b3e711b26e",
        "colab": {
          "base_uri": "https://localhost:8080/",
          "height": 269
        }
      },
      "outputs": [
        {
          "output_type": "execute_result",
          "data": {
            "text/plain": [
              "    color\n",
              "0     red\n",
              "1  orange\n",
              "2  yellow\n",
              "3   green\n",
              "4    blue\n",
              "5  indigo\n",
              "6  violet"
            ],
            "text/html": [
              "\n",
              "  <div id=\"df-be691833-06b3-4982-af84-a025796969e9\" class=\"colab-df-container\">\n",
              "    <div>\n",
              "<style scoped>\n",
              "    .dataframe tbody tr th:only-of-type {\n",
              "        vertical-align: middle;\n",
              "    }\n",
              "\n",
              "    .dataframe tbody tr th {\n",
              "        vertical-align: top;\n",
              "    }\n",
              "\n",
              "    .dataframe thead th {\n",
              "        text-align: right;\n",
              "    }\n",
              "</style>\n",
              "<table border=\"1\" class=\"dataframe\">\n",
              "  <thead>\n",
              "    <tr style=\"text-align: right;\">\n",
              "      <th></th>\n",
              "      <th>color</th>\n",
              "    </tr>\n",
              "  </thead>\n",
              "  <tbody>\n",
              "    <tr>\n",
              "      <th>0</th>\n",
              "      <td>red</td>\n",
              "    </tr>\n",
              "    <tr>\n",
              "      <th>1</th>\n",
              "      <td>orange</td>\n",
              "    </tr>\n",
              "    <tr>\n",
              "      <th>2</th>\n",
              "      <td>yellow</td>\n",
              "    </tr>\n",
              "    <tr>\n",
              "      <th>3</th>\n",
              "      <td>green</td>\n",
              "    </tr>\n",
              "    <tr>\n",
              "      <th>4</th>\n",
              "      <td>blue</td>\n",
              "    </tr>\n",
              "    <tr>\n",
              "      <th>5</th>\n",
              "      <td>indigo</td>\n",
              "    </tr>\n",
              "    <tr>\n",
              "      <th>6</th>\n",
              "      <td>violet</td>\n",
              "    </tr>\n",
              "  </tbody>\n",
              "</table>\n",
              "</div>\n",
              "    <div class=\"colab-df-buttons\">\n",
              "\n",
              "  <div class=\"colab-df-container\">\n",
              "    <button class=\"colab-df-convert\" onclick=\"convertToInteractive('df-be691833-06b3-4982-af84-a025796969e9')\"\n",
              "            title=\"Convert this dataframe to an interactive table.\"\n",
              "            style=\"display:none;\">\n",
              "\n",
              "  <svg xmlns=\"http://www.w3.org/2000/svg\" height=\"24px\" viewBox=\"0 -960 960 960\">\n",
              "    <path d=\"M120-120v-720h720v720H120Zm60-500h600v-160H180v160Zm220 220h160v-160H400v160Zm0 220h160v-160H400v160ZM180-400h160v-160H180v160Zm440 0h160v-160H620v160ZM180-180h160v-160H180v160Zm440 0h160v-160H620v160Z\"/>\n",
              "  </svg>\n",
              "    </button>\n",
              "\n",
              "  <style>\n",
              "    .colab-df-container {\n",
              "      display:flex;\n",
              "      gap: 12px;\n",
              "    }\n",
              "\n",
              "    .colab-df-convert {\n",
              "      background-color: #E8F0FE;\n",
              "      border: none;\n",
              "      border-radius: 50%;\n",
              "      cursor: pointer;\n",
              "      display: none;\n",
              "      fill: #1967D2;\n",
              "      height: 32px;\n",
              "      padding: 0 0 0 0;\n",
              "      width: 32px;\n",
              "    }\n",
              "\n",
              "    .colab-df-convert:hover {\n",
              "      background-color: #E2EBFA;\n",
              "      box-shadow: 0px 1px 2px rgba(60, 64, 67, 0.3), 0px 1px 3px 1px rgba(60, 64, 67, 0.15);\n",
              "      fill: #174EA6;\n",
              "    }\n",
              "\n",
              "    .colab-df-buttons div {\n",
              "      margin-bottom: 4px;\n",
              "    }\n",
              "\n",
              "    [theme=dark] .colab-df-convert {\n",
              "      background-color: #3B4455;\n",
              "      fill: #D2E3FC;\n",
              "    }\n",
              "\n",
              "    [theme=dark] .colab-df-convert:hover {\n",
              "      background-color: #434B5C;\n",
              "      box-shadow: 0px 1px 3px 1px rgba(0, 0, 0, 0.15);\n",
              "      filter: drop-shadow(0px 1px 2px rgba(0, 0, 0, 0.3));\n",
              "      fill: #FFFFFF;\n",
              "    }\n",
              "  </style>\n",
              "\n",
              "    <script>\n",
              "      const buttonEl =\n",
              "        document.querySelector('#df-be691833-06b3-4982-af84-a025796969e9 button.colab-df-convert');\n",
              "      buttonEl.style.display =\n",
              "        google.colab.kernel.accessAllowed ? 'block' : 'none';\n",
              "\n",
              "      async function convertToInteractive(key) {\n",
              "        const element = document.querySelector('#df-be691833-06b3-4982-af84-a025796969e9');\n",
              "        const dataTable =\n",
              "          await google.colab.kernel.invokeFunction('convertToInteractive',\n",
              "                                                    [key], {});\n",
              "        if (!dataTable) return;\n",
              "\n",
              "        const docLinkHtml = 'Like what you see? Visit the ' +\n",
              "          '<a target=\"_blank\" href=https://colab.research.google.com/notebooks/data_table.ipynb>data table notebook</a>'\n",
              "          + ' to learn more about interactive tables.';\n",
              "        element.innerHTML = '';\n",
              "        dataTable['output_type'] = 'display_data';\n",
              "        await google.colab.output.renderOutput(dataTable, element);\n",
              "        const docLink = document.createElement('div');\n",
              "        docLink.innerHTML = docLinkHtml;\n",
              "        element.appendChild(docLink);\n",
              "      }\n",
              "    </script>\n",
              "  </div>\n",
              "\n",
              "\n",
              "<div id=\"df-5f467e6d-46f4-4df9-af3a-fa29b796d81f\">\n",
              "  <button class=\"colab-df-quickchart\" onclick=\"quickchart('df-5f467e6d-46f4-4df9-af3a-fa29b796d81f')\"\n",
              "            title=\"Suggest charts\"\n",
              "            style=\"display:none;\">\n",
              "\n",
              "<svg xmlns=\"http://www.w3.org/2000/svg\" height=\"24px\"viewBox=\"0 0 24 24\"\n",
              "     width=\"24px\">\n",
              "    <g>\n",
              "        <path d=\"M19 3H5c-1.1 0-2 .9-2 2v14c0 1.1.9 2 2 2h14c1.1 0 2-.9 2-2V5c0-1.1-.9-2-2-2zM9 17H7v-7h2v7zm4 0h-2V7h2v10zm4 0h-2v-4h2v4z\"/>\n",
              "    </g>\n",
              "</svg>\n",
              "  </button>\n",
              "\n",
              "<style>\n",
              "  .colab-df-quickchart {\n",
              "      --bg-color: #E8F0FE;\n",
              "      --fill-color: #1967D2;\n",
              "      --hover-bg-color: #E2EBFA;\n",
              "      --hover-fill-color: #174EA6;\n",
              "      --disabled-fill-color: #AAA;\n",
              "      --disabled-bg-color: #DDD;\n",
              "  }\n",
              "\n",
              "  [theme=dark] .colab-df-quickchart {\n",
              "      --bg-color: #3B4455;\n",
              "      --fill-color: #D2E3FC;\n",
              "      --hover-bg-color: #434B5C;\n",
              "      --hover-fill-color: #FFFFFF;\n",
              "      --disabled-bg-color: #3B4455;\n",
              "      --disabled-fill-color: #666;\n",
              "  }\n",
              "\n",
              "  .colab-df-quickchart {\n",
              "    background-color: var(--bg-color);\n",
              "    border: none;\n",
              "    border-radius: 50%;\n",
              "    cursor: pointer;\n",
              "    display: none;\n",
              "    fill: var(--fill-color);\n",
              "    height: 32px;\n",
              "    padding: 0;\n",
              "    width: 32px;\n",
              "  }\n",
              "\n",
              "  .colab-df-quickchart:hover {\n",
              "    background-color: var(--hover-bg-color);\n",
              "    box-shadow: 0 1px 2px rgba(60, 64, 67, 0.3), 0 1px 3px 1px rgba(60, 64, 67, 0.15);\n",
              "    fill: var(--button-hover-fill-color);\n",
              "  }\n",
              "\n",
              "  .colab-df-quickchart-complete:disabled,\n",
              "  .colab-df-quickchart-complete:disabled:hover {\n",
              "    background-color: var(--disabled-bg-color);\n",
              "    fill: var(--disabled-fill-color);\n",
              "    box-shadow: none;\n",
              "  }\n",
              "\n",
              "  .colab-df-spinner {\n",
              "    border: 2px solid var(--fill-color);\n",
              "    border-color: transparent;\n",
              "    border-bottom-color: var(--fill-color);\n",
              "    animation:\n",
              "      spin 1s steps(1) infinite;\n",
              "  }\n",
              "\n",
              "  @keyframes spin {\n",
              "    0% {\n",
              "      border-color: transparent;\n",
              "      border-bottom-color: var(--fill-color);\n",
              "      border-left-color: var(--fill-color);\n",
              "    }\n",
              "    20% {\n",
              "      border-color: transparent;\n",
              "      border-left-color: var(--fill-color);\n",
              "      border-top-color: var(--fill-color);\n",
              "    }\n",
              "    30% {\n",
              "      border-color: transparent;\n",
              "      border-left-color: var(--fill-color);\n",
              "      border-top-color: var(--fill-color);\n",
              "      border-right-color: var(--fill-color);\n",
              "    }\n",
              "    40% {\n",
              "      border-color: transparent;\n",
              "      border-right-color: var(--fill-color);\n",
              "      border-top-color: var(--fill-color);\n",
              "    }\n",
              "    60% {\n",
              "      border-color: transparent;\n",
              "      border-right-color: var(--fill-color);\n",
              "    }\n",
              "    80% {\n",
              "      border-color: transparent;\n",
              "      border-right-color: var(--fill-color);\n",
              "      border-bottom-color: var(--fill-color);\n",
              "    }\n",
              "    90% {\n",
              "      border-color: transparent;\n",
              "      border-bottom-color: var(--fill-color);\n",
              "    }\n",
              "  }\n",
              "</style>\n",
              "\n",
              "  <script>\n",
              "    async function quickchart(key) {\n",
              "      const quickchartButtonEl =\n",
              "        document.querySelector('#' + key + ' button');\n",
              "      quickchartButtonEl.disabled = true;  // To prevent multiple clicks.\n",
              "      quickchartButtonEl.classList.add('colab-df-spinner');\n",
              "      try {\n",
              "        const charts = await google.colab.kernel.invokeFunction(\n",
              "            'suggestCharts', [key], {});\n",
              "      } catch (error) {\n",
              "        console.error('Error during call to suggestCharts:', error);\n",
              "      }\n",
              "      quickchartButtonEl.classList.remove('colab-df-spinner');\n",
              "      quickchartButtonEl.classList.add('colab-df-quickchart-complete');\n",
              "    }\n",
              "    (() => {\n",
              "      let quickchartButtonEl =\n",
              "        document.querySelector('#df-5f467e6d-46f4-4df9-af3a-fa29b796d81f button');\n",
              "      quickchartButtonEl.style.display =\n",
              "        google.colab.kernel.accessAllowed ? 'block' : 'none';\n",
              "    })();\n",
              "  </script>\n",
              "</div>\n",
              "\n",
              "  <div id=\"id_632e9361-473a-42ae-8e97-28a3d1a67620\">\n",
              "    <style>\n",
              "      .colab-df-generate {\n",
              "        background-color: #E8F0FE;\n",
              "        border: none;\n",
              "        border-radius: 50%;\n",
              "        cursor: pointer;\n",
              "        display: none;\n",
              "        fill: #1967D2;\n",
              "        height: 32px;\n",
              "        padding: 0 0 0 0;\n",
              "        width: 32px;\n",
              "      }\n",
              "\n",
              "      .colab-df-generate:hover {\n",
              "        background-color: #E2EBFA;\n",
              "        box-shadow: 0px 1px 2px rgba(60, 64, 67, 0.3), 0px 1px 3px 1px rgba(60, 64, 67, 0.15);\n",
              "        fill: #174EA6;\n",
              "      }\n",
              "\n",
              "      [theme=dark] .colab-df-generate {\n",
              "        background-color: #3B4455;\n",
              "        fill: #D2E3FC;\n",
              "      }\n",
              "\n",
              "      [theme=dark] .colab-df-generate:hover {\n",
              "        background-color: #434B5C;\n",
              "        box-shadow: 0px 1px 3px 1px rgba(0, 0, 0, 0.15);\n",
              "        filter: drop-shadow(0px 1px 2px rgba(0, 0, 0, 0.3));\n",
              "        fill: #FFFFFF;\n",
              "      }\n",
              "    </style>\n",
              "    <button class=\"colab-df-generate\" onclick=\"generateWithVariable('example_data')\"\n",
              "            title=\"Generate code using this dataframe.\"\n",
              "            style=\"display:none;\">\n",
              "\n",
              "  <svg xmlns=\"http://www.w3.org/2000/svg\" height=\"24px\"viewBox=\"0 0 24 24\"\n",
              "       width=\"24px\">\n",
              "    <path d=\"M7,19H8.4L18.45,9,17,7.55,7,17.6ZM5,21V16.75L18.45,3.32a2,2,0,0,1,2.83,0l1.4,1.43a1.91,1.91,0,0,1,.58,1.4,1.91,1.91,0,0,1-.58,1.4L9.25,21ZM18.45,9,17,7.55Zm-12,3A5.31,5.31,0,0,0,4.9,8.1,5.31,5.31,0,0,0,1,6.5,5.31,5.31,0,0,0,4.9,4.9,5.31,5.31,0,0,0,6.5,1,5.31,5.31,0,0,0,8.1,4.9,5.31,5.31,0,0,0,12,6.5,5.46,5.46,0,0,0,6.5,12Z\"/>\n",
              "  </svg>\n",
              "    </button>\n",
              "    <script>\n",
              "      (() => {\n",
              "      const buttonEl =\n",
              "        document.querySelector('#id_632e9361-473a-42ae-8e97-28a3d1a67620 button.colab-df-generate');\n",
              "      buttonEl.style.display =\n",
              "        google.colab.kernel.accessAllowed ? 'block' : 'none';\n",
              "\n",
              "      buttonEl.onclick = () => {\n",
              "        google.colab.notebook.generateWithVariable('example_data');\n",
              "      }\n",
              "      })();\n",
              "    </script>\n",
              "  </div>\n",
              "\n",
              "    </div>\n",
              "  </div>\n"
            ],
            "application/vnd.google.colaboratory.intrinsic+json": {
              "type": "dataframe",
              "variable_name": "example_data",
              "summary": "{\n  \"name\": \"example_data\",\n  \"rows\": 7,\n  \"fields\": [\n    {\n      \"column\": \"color\",\n      \"properties\": {\n        \"dtype\": \"string\",\n        \"num_unique_values\": 7,\n        \"samples\": [\n          \"red\",\n          \"orange\",\n          \"indigo\"\n        ],\n        \"semantic_type\": \"\",\n        \"description\": \"\"\n      }\n    }\n  ]\n}"
            }
          },
          "metadata": {},
          "execution_count": 50
        }
      ],
      "source": [
        "example_data = pd.DataFrame({\n",
        "    \"color\": [\"red\", \"orange\", \"yellow\", \"green\", \"blue\", \"indigo\", \"violet\"]\n",
        "})\n",
        "example_data"
      ]
    },
    {
      "cell_type": "markdown",
      "metadata": {
        "id": "x_gxF1fzAQNN"
      },
      "source": [
        "`kfolds(example_data, 3)` should return:\n",
        "\n",
        "* a dataframe with `red`, `orange`, `yellow`\n",
        "* a dataframe with `green`, `blue`\n",
        "* a dataframe with `indigo`, `violet`\n",
        "\n",
        "Because the example dataframe has 7 records, which is not evenly divisible by 3, so the \"leftover\" 1 record extends the length of the first dataframe."
      ]
    },
    {
      "cell_type": "code",
      "execution_count": 51,
      "metadata": {
        "id": "dybe78scAQNO"
      },
      "outputs": [],
      "source": [
        "def kfolds(data, k):\n",
        "    folds = []\n",
        "\n",
        "    # Your code here\n",
        "    fold_sizes = [(len(data) // k) + 1 if i < len(data) % k else (len(data) // k) for i in range(k)]\n",
        "\n",
        "    indices = np.cumsum([0] + fold_sizes)\n",
        "\n",
        "    # Create the folds\n",
        "    folds = [data.iloc[indices[i]:indices[i+1]].reset_index(drop=True) for i in range(k)]\n",
        "\n",
        "    return folds"
      ]
    },
    {
      "cell_type": "code",
      "execution_count": 52,
      "metadata": {
        "id": "pX_xAi2HAQNO",
        "outputId": "6dfaeb57-9697-476b-9abe-7018d852db1b",
        "colab": {
          "base_uri": "https://localhost:8080/"
        }
      },
      "outputs": [
        {
          "output_type": "stream",
          "name": "stdout",
          "text": [
            "    color\n",
            "0     red\n",
            "1  orange\n",
            "2  yellow \n",
            "\n",
            "   color\n",
            "0  green\n",
            "1   blue \n",
            "\n",
            "    color\n",
            "0  indigo\n",
            "1  violet \n",
            "\n"
          ]
        }
      ],
      "source": [
        "results = kfolds(example_data, 3)\n",
        "for result in results:\n",
        "    print(result, \"\\n\")"
      ]
    },
    {
      "cell_type": "markdown",
      "metadata": {
        "id": "O8TVkfOUAQNO"
      },
      "source": [
        "### Apply Your Function to the Ames Housing Data\n",
        "\n",
        "Get folds for both `X` and `y`."
      ]
    },
    {
      "cell_type": "code",
      "execution_count": 53,
      "metadata": {
        "id": "KEC7Q-0FAQNO",
        "outputId": "bacc9973-4dd9-4241-e40a-7591ce116d99",
        "colab": {
          "base_uri": "https://localhost:8080/"
        }
      },
      "outputs": [
        {
          "output_type": "execute_result",
          "data": {
            "text/plain": [
              "[      Id  MSSubClass MSZoning  LotFrontage  LotArea Street Alley LotShape  \\\n",
              " 0      1          60       RL         65.0     8450   Pave   NaN      Reg   \n",
              " 1      2          20       RL         80.0     9600   Pave   NaN      Reg   \n",
              " 2      3          60       RL         68.0    11250   Pave   NaN      IR1   \n",
              " 3      4          70       RL         60.0     9550   Pave   NaN      IR1   \n",
              " 4      5          60       RL         84.0    14260   Pave   NaN      IR1   \n",
              " ..   ...         ...      ...          ...      ...    ...   ...      ...   \n",
              " 287  288          20       RL          NaN     8125   Pave   NaN      IR1   \n",
              " 288  289          20       RL          NaN     9819   Pave   NaN      IR1   \n",
              " 289  290          70       RL         60.0     8730   Pave   NaN      Reg   \n",
              " 290  291          60       RL        120.0    15611   Pave   NaN      Reg   \n",
              " 291  292         190       RL         55.0     5687   Pave  Grvl      Reg   \n",
              " \n",
              "     LandContour Utilities  ... PoolArea PoolQC  Fence MiscFeature MiscVal  \\\n",
              " 0           Lvl    AllPub  ...        0    NaN    NaN         NaN       0   \n",
              " 1           Lvl    AllPub  ...        0    NaN    NaN         NaN       0   \n",
              " 2           Lvl    AllPub  ...        0    NaN    NaN         NaN       0   \n",
              " 3           Lvl    AllPub  ...        0    NaN    NaN         NaN       0   \n",
              " 4           Lvl    AllPub  ...        0    NaN    NaN         NaN       0   \n",
              " ..          ...       ...  ...      ...    ...    ...         ...     ...   \n",
              " 287         Lvl    AllPub  ...        0    NaN    NaN         NaN       0   \n",
              " 288         Lvl    AllPub  ...        0    NaN  MnPrv         NaN       0   \n",
              " 289         Lvl    AllPub  ...        0    NaN    NaN         NaN       0   \n",
              " 290         Lvl    AllPub  ...        0    NaN    NaN         NaN       0   \n",
              " 291         Bnk    AllPub  ...        0    NaN    NaN         NaN       0   \n",
              " \n",
              "     MoSold YrSold  SaleType  SaleCondition  SalePrice  \n",
              " 0        2   2008        WD         Normal     208500  \n",
              " 1        5   2007        WD         Normal     181500  \n",
              " 2        9   2008        WD         Normal     223500  \n",
              " 3        2   2006        WD        Abnorml     140000  \n",
              " 4       12   2008        WD         Normal     250000  \n",
              " ..     ...    ...       ...            ...        ...  \n",
              " 287      6   2006        WD         Normal      88000  \n",
              " 288      2   2010        WD         Normal     122000  \n",
              " 289      7   2007        WD         Normal     153575  \n",
              " 290      7   2006       New        Partial     233230  \n",
              " 291      3   2008        WD         Normal     135900  \n",
              " \n",
              " [292 rows x 81 columns],\n",
              "       Id  MSSubClass MSZoning  LotFrontage  LotArea Street Alley LotShape  \\\n",
              " 0    293          50       RL         60.0    11409   Pave   NaN      Reg   \n",
              " 1    294          60       RL          NaN    16659   Pave   NaN      IR1   \n",
              " 2    295          20       RL         80.0     9600   Pave   NaN      Reg   \n",
              " 3    296          80       RL         37.0     7937   Pave   NaN      IR1   \n",
              " 4    297          50       RM         75.0    13710   Pave   NaN      Reg   \n",
              " ..   ...         ...      ...          ...      ...    ...   ...      ...   \n",
              " 287  580          50       RM         81.0    12150   Pave  Grvl      Reg   \n",
              " 288  581          20       RL          NaN    14585   Pave   NaN      IR1   \n",
              " 289  582          20       RL         98.0    12704   Pave   NaN      Reg   \n",
              " 290  583          90       RL         81.0    11841   Grvl   NaN      Reg   \n",
              " 291  584          75       RM         75.0    13500   Pave   NaN      Reg   \n",
              " \n",
              "     LandContour Utilities  ... PoolArea PoolQC  Fence MiscFeature MiscVal  \\\n",
              " 0           Lvl    AllPub  ...        0    NaN    NaN         NaN       0   \n",
              " 1           Lvl    AllPub  ...        0    NaN    NaN         NaN       0   \n",
              " 2           Lvl    AllPub  ...        0    NaN    NaN         NaN       0   \n",
              " 3           Lvl    AllPub  ...        0    NaN  GdPrv         NaN       0   \n",
              " 4           Lvl    AllPub  ...        0    NaN  MnPrv         NaN       0   \n",
              " ..          ...       ...  ...      ...    ...    ...         ...     ...   \n",
              " 287         Lvl    AllPub  ...        0    NaN    NaN         NaN       0   \n",
              " 288         Lvl    AllPub  ...        0    NaN    NaN         NaN       0   \n",
              " 289         Lvl    AllPub  ...        0    NaN    NaN         NaN       0   \n",
              " 290         Lvl    AllPub  ...        0    NaN    NaN         NaN       0   \n",
              " 291         Lvl    AllPub  ...        0    NaN    NaN         NaN       0   \n",
              " \n",
              "     MoSold YrSold  SaleType  SaleCondition  SalePrice  \n",
              " 0        1   2009        WD         Normal     131000  \n",
              " 1        3   2006        WD         Normal     235000  \n",
              " 2       10   2009        WD         Normal     167000  \n",
              " 3        3   2006        WD         Normal     142500  \n",
              " 4        6   2007        WD         Normal     152000  \n",
              " ..     ...    ...       ...            ...        ...  \n",
              " 287     11   2008        WD         Normal     131500  \n",
              " 288      6   2007        WD         Normal     181900  \n",
              " 289      8   2009       New        Partial     253293  \n",
              " 290      5   2007        WD         Normal     118500  \n",
              " 291      7   2008        WD         Normal     325000  \n",
              " \n",
              " [292 rows x 81 columns],\n",
              "       Id  MSSubClass MSZoning  LotFrontage  LotArea Street Alley LotShape  \\\n",
              " 0    585          50       RM         51.0     6120   Pave   NaN      Reg   \n",
              " 1    586          20       RL         88.0    11443   Pave   NaN      Reg   \n",
              " 2    587          30       RL         55.0    10267   Pave   NaN      Reg   \n",
              " 3    588          85       RL         74.0     8740   Pave   NaN      IR1   \n",
              " 4    589          20       RL         65.0    25095   Pave   NaN      IR1   \n",
              " ..   ...         ...      ...          ...      ...    ...   ...      ...   \n",
              " 287  872          60       RL         70.0     8750   Pave   NaN      Reg   \n",
              " 288  873          20       RL         74.0     8892   Pave   NaN      Reg   \n",
              " 289  874          40       RL         60.0    12144   Pave   NaN      Reg   \n",
              " 290  875          50       RM         52.0     5720   Pave   NaN      Reg   \n",
              " 291  876          60       FV         75.0     9000   Pave   NaN      Reg   \n",
              " \n",
              "     LandContour Utilities  ... PoolArea PoolQC Fence MiscFeature MiscVal  \\\n",
              " 0           Lvl    AllPub  ...        0    NaN   NaN         NaN       0   \n",
              " 1           Lvl    AllPub  ...        0    NaN   NaN         NaN       0   \n",
              " 2           Lvl    AllPub  ...        0    NaN  MnWw         NaN       0   \n",
              " 3           Lvl    AllPub  ...        0    NaN   NaN         NaN       0   \n",
              " 4           Low    AllPub  ...        0    NaN   NaN         NaN       0   \n",
              " ..          ...       ...  ...      ...    ...   ...         ...     ...   \n",
              " 287         Lvl    AllPub  ...        0    NaN   NaN         NaN       0   \n",
              " 288         Lvl    AllPub  ...        0    NaN  GdWo         NaN       0   \n",
              " 289         Lvl    AllPub  ...        0    NaN   NaN        Othr       0   \n",
              " 290         Lvl    AllPub  ...        0    NaN   NaN         NaN       0   \n",
              " 291         Lvl    AllPub  ...        0    NaN   NaN         NaN       0   \n",
              " \n",
              "     MoSold YrSold  SaleType  SaleCondition  SalePrice  \n",
              " 0        7   2009        WD         Normal     133000  \n",
              " 1        3   2006       New        Partial     369900  \n",
              " 2        5   2008        WD         Normal     130000  \n",
              " 3        7   2009        WD         Normal     137000  \n",
              " 4        6   2009        WD        Partial     143000  \n",
              " ..     ...    ...       ...            ...        ...  \n",
              " 287      6   2010        WD         Normal     200500  \n",
              " 288     10   2008        WD         Normal     116000  \n",
              " 289      9   2009        WD         Normal     133000  \n",
              " 290      8   2009        WD        Abnorml      66500  \n",
              " 291      8   2007       New        Partial     303477  \n",
              " \n",
              " [292 rows x 81 columns],\n",
              "        Id  MSSubClass MSZoning  LotFrontage  LotArea Street Alley LotShape  \\\n",
              " 0     877          20       RL         94.0    25286   Pave   NaN      Reg   \n",
              " 1     878          60       RL         74.0     8834   Pave   NaN      Reg   \n",
              " 2     879          85       RL         88.0    11782   Pave   NaN      IR1   \n",
              " 3     880          20       RL          NaN     7000   Pave   NaN      IR1   \n",
              " 4     881          20       RL         60.0     7024   Pave   NaN      Reg   \n",
              " ..    ...         ...      ...          ...      ...    ...   ...      ...   \n",
              " 287  1164          90       RL         60.0    12900   Pave   NaN      Reg   \n",
              " 288  1165          80       RL          NaN    16157   Pave   NaN      IR1   \n",
              " 289  1166          20       RL         79.0     9541   Pave   NaN      IR1   \n",
              " 290  1167          20       RL         64.0    10475   Pave   NaN      IR1   \n",
              " 291  1168          60       RL         58.0    10852   Pave   NaN      IR1   \n",
              " \n",
              "     LandContour Utilities  ... PoolArea PoolQC  Fence MiscFeature MiscVal  \\\n",
              " 0           HLS    AllPub  ...        0    NaN    NaN         NaN       0   \n",
              " 1           Lvl    AllPub  ...        0    NaN    NaN         NaN       0   \n",
              " 2           Lvl    AllPub  ...        0    NaN  MnPrv        Shed     400   \n",
              " 3           Lvl    AllPub  ...        0    NaN   GdWo         NaN       0   \n",
              " 4           Lvl    AllPub  ...        0    NaN    NaN         NaN       0   \n",
              " ..          ...       ...  ...      ...    ...    ...         ...     ...   \n",
              " 287         Lvl    AllPub  ...        0    NaN    NaN         NaN       0   \n",
              " 288         Lvl    AllPub  ...        0    NaN    NaN         NaN       0   \n",
              " 289         Lvl    AllPub  ...        0    NaN    NaN         NaN       0   \n",
              " 290         Lvl    AllPub  ...        0    NaN    NaN         NaN       0   \n",
              " 291         Lvl    AllPub  ...        0    NaN    NaN         NaN       0   \n",
              " \n",
              "     MoSold YrSold  SaleType  SaleCondition  SalePrice  \n",
              " 0        1   2007        WD         Normal     132250  \n",
              " 1        6   2009        WD         Normal     350000  \n",
              " 2        6   2010        WD         Normal     148000  \n",
              " 3        7   2009        WD         Normal     136500  \n",
              " 4        6   2007        WD         Normal     157000  \n",
              " ..     ...    ...       ...            ...        ...  \n",
              " 287      1   2008        WD         Alloca     108959  \n",
              " 288      6   2007        WD         Normal     194000  \n",
              " 289      9   2009       New        Partial     233170  \n",
              " 290      2   2010        WD         Normal     245350  \n",
              " 291      2   2006        WD         Normal     173000  \n",
              " \n",
              " [292 rows x 81 columns],\n",
              "        Id  MSSubClass MSZoning  LotFrontage  LotArea Street Alley LotShape  \\\n",
              " 0    1169          70       RL        120.0    13728   Pave   NaN      Reg   \n",
              " 1    1170          60       RL        118.0    35760   Pave   NaN      IR1   \n",
              " 2    1171          80       RL         76.0     9880   Pave   NaN      Reg   \n",
              " 3    1172          20       RL         76.0     9120   Pave   NaN      Reg   \n",
              " 4    1173         160       FV         35.0     4017   Pave  Pave      IR1   \n",
              " ..    ...         ...      ...          ...      ...    ...   ...      ...   \n",
              " 287  1456          60       RL         62.0     7917   Pave   NaN      Reg   \n",
              " 288  1457          20       RL         85.0    13175   Pave   NaN      Reg   \n",
              " 289  1458          70       RL         66.0     9042   Pave   NaN      Reg   \n",
              " 290  1459          20       RL         68.0     9717   Pave   NaN      Reg   \n",
              " 291  1460          20       RL         75.0     9937   Pave   NaN      Reg   \n",
              " \n",
              "     LandContour Utilities  ... PoolArea PoolQC  Fence MiscFeature MiscVal  \\\n",
              " 0           Lvl    AllPub  ...        0    NaN    NaN         NaN       0   \n",
              " 1           Lvl    AllPub  ...        0    NaN    NaN         NaN       0   \n",
              " 2           Lvl    AllPub  ...      576     Gd  GdPrv         NaN       0   \n",
              " 3           Lvl    AllPub  ...        0    NaN    NaN        Shed    1400   \n",
              " 4           Lvl    AllPub  ...        0    NaN    NaN         NaN       0   \n",
              " ..          ...       ...  ...      ...    ...    ...         ...     ...   \n",
              " 287         Lvl    AllPub  ...        0    NaN    NaN         NaN       0   \n",
              " 288         Lvl    AllPub  ...        0    NaN  MnPrv         NaN       0   \n",
              " 289         Lvl    AllPub  ...        0    NaN  GdPrv        Shed    2500   \n",
              " 290         Lvl    AllPub  ...        0    NaN    NaN         NaN       0   \n",
              " 291         Lvl    AllPub  ...        0    NaN    NaN         NaN       0   \n",
              " \n",
              "     MoSold YrSold  SaleType  SaleCondition  SalePrice  \n",
              " 0        7   2008        WD         Normal     235000  \n",
              " 1        7   2006        WD         Normal     625000  \n",
              " 2        7   2008        WD         Normal     171000  \n",
              " 3       11   2008        WD         Normal     163000  \n",
              " 4        3   2008        WD         Normal     171900  \n",
              " ..     ...    ...       ...            ...        ...  \n",
              " 287      8   2007        WD         Normal     175000  \n",
              " 288      2   2010        WD         Normal     210000  \n",
              " 289      5   2010        WD         Normal     266500  \n",
              " 290      4   2010        WD         Normal     142125  \n",
              " 291      6   2008        WD         Normal     147500  \n",
              " \n",
              " [292 rows x 81 columns]]"
            ]
          },
          "metadata": {},
          "execution_count": 53
        }
      ],
      "source": [
        "# Apply kfolds() to ames_data with 5 folds\n",
        "kfolds(ames,5)"
      ]
    },
    {
      "cell_type": "markdown",
      "metadata": {
        "id": "NjrOdLxhAQNO"
      },
      "source": [
        "### Perform a Linear Regression for Each Fold and Calculate the Test Error\n",
        "\n",
        "Remember that for each fold you will need to concatenate all but one of the folds to represent the training data, while the one remaining fold represents the test data."
      ]
    },
    {
      "cell_type": "code",
      "execution_count": 54,
      "metadata": {
        "id": "TWE-RLDRAQNO",
        "outputId": "a3700b0c-8a5d-4ee9-98cb-37992e0f7007",
        "colab": {
          "base_uri": "https://localhost:8080/"
        }
      },
      "outputs": [
        {
          "output_type": "stream",
          "name": "stdout",
          "text": [
            "[]\n"
          ]
        }
      ],
      "source": [
        "# Replace None with appropriate code\n",
        "test_errs = []\n",
        "k = 5\n",
        "\n",
        "for n in range(k):\n",
        "    # Split into train and test for the fold\n",
        "    X_train = None\n",
        "    X_test = None\n",
        "    y_train = None\n",
        "    y_test = None\n",
        "\n",
        "    # Fit a linear regression model\n",
        "    None\n",
        "\n",
        "    # Evaluate test errors\n",
        "    None\n",
        "\n",
        "print(test_errs)"
      ]
    },
    {
      "cell_type": "markdown",
      "metadata": {
        "id": "oM_CP5BQAQNO"
      },
      "source": [
        "If your code was written correctly, these should be the same errors as scikit-learn produced with `cross_val_score` (within rounding error). Test this out below:"
      ]
    },
    {
      "cell_type": "code",
      "execution_count": null,
      "metadata": {
        "id": "1xHQR3phAQNO"
      },
      "outputs": [],
      "source": [
        "# Compare your results with sklearn results\n"
      ]
    },
    {
      "cell_type": "markdown",
      "metadata": {
        "id": "tFuwspLbAQNO"
      },
      "source": [
        "This was a bit of work! Hopefully you have a clearer understanding of the underlying logic for cross-validation if you attempted this exercise."
      ]
    },
    {
      "cell_type": "markdown",
      "metadata": {
        "id": "imcyPTwZAQNO"
      },
      "source": [
        "##  Summary"
      ]
    },
    {
      "cell_type": "markdown",
      "metadata": {
        "id": "8_09n317AQNP"
      },
      "source": [
        "Congratulations! You are now familiar with cross-validation and know how to use `cross_val_score()`. Remember that the results obtained from cross-validation are more robust than train-test split."
      ]
    }
  ],
  "metadata": {
    "kernelspec": {
      "display_name": "Python (learn-env)",
      "language": "python",
      "name": "learn-env"
    },
    "language_info": {
      "codemirror_mode": {
        "name": "ipython",
        "version": 3
      },
      "file_extension": ".py",
      "mimetype": "text/x-python",
      "name": "python",
      "nbconvert_exporter": "python",
      "pygments_lexer": "ipython3",
      "version": "3.8.5"
    },
    "colab": {
      "provenance": []
    }
  },
  "nbformat": 4,
  "nbformat_minor": 0
}